{
 "cells": [
  {
   "cell_type": "markdown",
   "metadata": {},
   "source": [
    "# Python's Class Development Toolkit"
   ]
  },
  {
   "cell_type": "markdown",
   "metadata": {},
   "source": [
    "This Notebook are my \"class notes\" of the slides from the tutorial in the following video."
   ]
  },
  {
   "cell_type": "code",
   "execution_count": null,
   "metadata": {
    "collapsed": false,
    "scrolled": true
   },
   "outputs": [],
   "source": [
    "from IPython.display import YouTubeVideo\n",
    "YouTubeVideo('HTLu2DFOdTg')"
   ]
  },
  {
   "cell_type": "markdown",
   "metadata": {},
   "source": [
    "**Include a Module DocString for your module**"
   ]
  },
  {
   "cell_type": "code",
   "execution_count": null,
   "metadata": {
    "collapsed": false
   },
   "outputs": [],
   "source": [
    "'''Circuituous, LLC --\n",
    "   An Advanced Circle Analytics Company\n",
    "'''"
   ]
  },
  {
   "cell_type": "markdown",
   "metadata": {},
   "source": [
    "**Document your class and methods**"
   ]
  },
  {
   "cell_type": "code",
   "execution_count": null,
   "metadata": {
    "collapsed": true
   },
   "outputs": [],
   "source": [
    "class Circle:\n",
    "    'An advanced circle analytic toolkit'"
   ]
  },
  {
   "cell_type": "markdown",
   "metadata": {},
   "source": [
    "**Inherit from object** to make a new style class to get extra capablilities. This is advanced technology."
   ]
  },
  {
   "cell_type": "code",
   "execution_count": null,
   "metadata": {
    "collapsed": true
   },
   "outputs": [],
   "source": [
    "class Circle(object):            # new-style class\n",
    "    'An advanced circle analytic toolkit'"
   ]
  },
  {
   "cell_type": "markdown",
   "metadata": {},
   "source": [
    "**Initialize instance variables**<br />\n",
    "Init isn't a constructor. It's job is to initialize the instance variables. Init takes an existing instance 'self' and populates it with instance variables."
   ]
  },
  {
   "cell_type": "code",
   "execution_count": null,
   "metadata": {
    "collapsed": true
   },
   "outputs": [],
   "source": [
    "class Circle(object):            # new-style class\n",
    "    'An advanced circle analytic toolkit'\n",
    "    \n",
    "    def __init__(self, radius):\n",
    "        self.radius = radius         # instance variable"
   ]
  },
  {
   "cell_type": "markdown",
   "metadata": {},
   "source": [
    "**Regular method.**<br />\n",
    "Regular methods have \"self\" as first argument. \"self\" is a python convention but you can use any argument name you want. e.g. \"this\" , \"that\" etc.\n"
   ]
  },
  {
   "cell_type": "code",
   "execution_count": null,
   "metadata": {
    "collapsed": true
   },
   "outputs": [],
   "source": [
    "class Circle(object):  \n",
    "    'An advanced circle analytic toolkit'\n",
    "    \n",
    "    def __init__(self, radius):\n",
    "        self.radius = radius\n",
    "        \n",
    "    def area(self):\n",
    "        'Perform quadrature on a shape of uniform radius'\n",
    "        return 3.14 * self.radius ** 2.0"
   ]
  },
  {
   "cell_type": "markdown",
   "metadata": {},
   "source": [
    "What about 3.14?<br \\>\n",
    "import math<br \\>\n",
    "use math.pi"
   ]
  },
  {
   "cell_type": "code",
   "execution_count": null,
   "metadata": {
    "collapsed": true
   },
   "outputs": [],
   "source": [
    "import math\n",
    "\n",
    "class Circle(object): \n",
    "    'An advanced circle analytic toolkit'\n",
    "    \n",
    "    def __init__(self, radius):\n",
    "        self.radius = radius\n",
    "        \n",
    "    def area(self):\n",
    "        'Perform quadrature on a shape of uniform radius'\n",
    "        return math.pi * self.radius ** 2.0"
   ]
  },
  {
   "cell_type": "markdown",
   "metadata": {},
   "source": [
    "**Class variables for shared data among all instances.**"
   ]
  },
  {
   "cell_type": "code",
   "execution_count": null,
   "metadata": {
    "collapsed": false
   },
   "outputs": [],
   "source": [
    "import math\n",
    "\n",
    "class Circle(object): \n",
    "    'An advanced circle analytic toolkit'\n",
    "    \n",
    "    version = '0.1'                  # class variable\n",
    "    \n",
    "    \n",
    "    def __init__(self, radius):\n",
    "        self.radius = radius\n",
    "        \n",
    "    def area(self):\n",
    "        'Perform quadrature on a shape of uniform radius'\n",
    "        return math.pi * self.radius ** 2.0"
   ]
  },
  {
   "cell_type": "markdown",
   "metadata": {},
   "source": [
    "**Create tutorial for your class**"
   ]
  },
  {
   "cell_type": "code",
   "execution_count": null,
   "metadata": {
    "collapsed": false
   },
   "outputs": [],
   "source": [
    "# Tutorial\n",
    "\n",
    "print('Circuituous version', Circle.version)\n",
    "c = Circle(10)\n",
    "print('A circle of radius', c.radius)\n",
    "print('has an area of', c.area())"
   ]
  },
  {
   "cell_type": "markdown",
   "metadata": {},
   "source": [
    "First customer: Academia"
   ]
  },
  {
   "cell_type": "code",
   "execution_count": null,
   "metadata": {
    "collapsed": false
   },
   "outputs": [],
   "source": [
    "from random import random, seed\n",
    "\n",
    "seed(8675309)                      # for reproduceable results\n",
    "print('Using Circuituous version', Circle.version)\n",
    "n = 10\n",
    "circles = [Circle(random()) for i in range(n)]\n",
    "print('The average area of', n, 'random circles')\n",
    "avg = sum([c.area() for c in circles]) / n\n",
    "print('is %.5f' % avg)"
   ]
  },
  {
   "cell_type": "markdown",
   "metadata": {},
   "source": [
    "**Next customer wants a perimeter method**"
   ]
  },
  {
   "cell_type": "code",
   "execution_count": null,
   "metadata": {
    "collapsed": false
   },
   "outputs": [],
   "source": [
    "import math\n",
    "\n",
    "class Circle(object): \n",
    "    'An advanced circle analytic toolkit'\n",
    "    \n",
    "    version = '0.2'\n",
    "        \n",
    "    def __init__(self, radius):\n",
    "        self.radius = radius\n",
    "        \n",
    "    def area(self):\n",
    "        return math.pi * self.radius ** 2.0\n",
    "    \n",
    "    def perimeter(self):\n",
    "        return 2.0 * math.pi * self.radius"
   ]
  },
  {
   "cell_type": "markdown",
   "metadata": {},
   "source": [
    "**Second customer: Rubber sheet company**<br />\n",
    "how do we feel about exposing the radius attribute? <br />The customer changed the radius value. <br \\>If you expose an attribute expect the user to do all sorts of things with it."
   ]
  },
  {
   "cell_type": "code",
   "execution_count": null,
   "metadata": {
    "collapsed": false
   },
   "outputs": [],
   "source": [
    "cuts = [0.1, 0.7, 0.8]\n",
    "circles = [Circle(r) for r in cuts]\n",
    "for c in circles:\n",
    "    print('A circle with a radius of ', c.radius)\n",
    "    print('has a perimeter of', c.perimeter())\n",
    "    print('and a cold area of', c.area())\n",
    "    c.radius *= 1.1\n",
    "    print('and a warm area of', c.area())"
   ]
  },
  {
   "cell_type": "markdown",
   "metadata": {},
   "source": [
    "**Do things the Python way.**<br \\> \n",
    "Python is a consenting adults language and we leave all of the variables exposed. You don't use getter and setter methods in python, there is no protected and private variables in python like in Java and C++. Don't impose Java rules when you are coding in python and vice versa."
   ]
  },
  {
   "cell_type": "markdown",
   "metadata": {},
   "source": [
    "**Third customer: National tire chain**<br />\n",
    "Change functionality through subclassing.<br />\n",
    "If the parent gets called in the subclass method then it is called **extending**.<br />\n",
    "If the parent does not get called in the subclass method then it is called **overriding**.<br />\n"
   ]
  },
  {
   "cell_type": "code",
   "execution_count": null,
   "metadata": {
    "collapsed": false
   },
   "outputs": [],
   "source": [
    "class Tire(Circle):\n",
    "    'Tires are circles with a corrected perimeter'\n",
    "    \n",
    "    def perimeter(self):\n",
    "        'Circumference corrected for the rubber'\n",
    "        return Circle.perimeter(self) * 1.25\n",
    "    \n",
    "t = Tire(22)\n",
    "print('A tire of radius', t.radius)\n",
    "print('has an inner area of', t.area())\n",
    "print('and an odometer corrected perimeter of'),\n",
    "print('%.1f' % t.perimeter())\n",
    "    "
   ]
  },
  {
   "cell_type": "markdown",
   "metadata": {},
   "source": [
    "**Next customer: National graphics company**<br />\n",
    "The API is awkward. A converter function is always needed.<br />\n",
    "Perhaps change the constructor signature?<br />\n",
    "Need a new constructor to initialize Circle with bounding box diagonal. Several different users want different signatures for the constructor. If there is a constructor war, everyone should get their wish."
   ]
  },
  {
   "cell_type": "code",
   "execution_count": null,
   "metadata": {
    "collapsed": true
   },
   "outputs": [],
   "source": [
    "def bbd_to_radius(bbd):\n",
    "    v = (bbd // math.sqrt(2.0)) // 2.0\n",
    "    return v"
   ]
  },
  {
   "cell_type": "code",
   "execution_count": null,
   "metadata": {
    "collapsed": false
   },
   "outputs": [],
   "source": [
    "bbd = 25.1\n",
    "c = Circle(bbd_to_radius(bbd))\n",
    "print('A circle with a bbd of %d' % bbd)\n",
    "print('has a radius of', c.radius)\n",
    "print('and an area of %.2f' % c.area())"
   ]
  },
  {
   "cell_type": "markdown",
   "metadata": {},
   "source": [
    "**Need an alternate constructor.** <br />\n",
    "We do it all the time."
   ]
  },
  {
   "cell_type": "code",
   "execution_count": null,
   "metadata": {
    "collapsed": false
   },
   "outputs": [],
   "source": [
    "from datetime import datetime \n",
    "\n",
    "print(datetime(2015, 3, 16))\n",
    "print(datetime.fromtimestamp(1264383616))\n",
    "print(datetime.fromordinal(734000))\n",
    "print(datetime.now())\n",
    "\n",
    "print(dict.fromkeys(['raymond', 'rachel', 'mathew']))"
   ]
  },
  {
   "cell_type": "markdown",
   "metadata": {},
   "source": [
    "<br \\>\n",
    "**Class methods create alternative constructors**<br \\>\n",
    "use @classmethod decorator\n"
   ]
  },
  {
   "cell_type": "code",
   "execution_count": null,
   "metadata": {
    "collapsed": false
   },
   "outputs": [],
   "source": [
    "import math\n",
    "\n",
    "class Circle(object): \n",
    "    'An advanced circle analytic toolkit'\n",
    "    version = '0.3'\n",
    "        \n",
    "    def __init__(self, radius):\n",
    "        self.radius = radius\n",
    "        \n",
    "    def area(self):\n",
    "        return math.pi * self.radius ** 2.0\n",
    "    \n",
    "    def perimeter(self):\n",
    "        return 2.0 * math.pi * self.radius\n",
    "    \n",
    "    @classmethod                     # alternative constructor (wrong)\n",
    "    def from_bbd(cls, bbd):\n",
    "        'Construct a circle from a bounding box diagonal'\n",
    "        radius = bbd / 2.0 / math.sqrt(2.0)\n",
    "        return Circle(radius) # wroooooong, use cls, see later on"
   ]
  },
  {
   "cell_type": "markdown",
   "metadata": {},
   "source": [
    "<br \\>\n",
    "Client code: National graphics company\n"
   ]
  },
  {
   "cell_type": "code",
   "execution_count": null,
   "metadata": {
    "collapsed": false
   },
   "outputs": [],
   "source": [
    "c = Circle.from_bbd(25.1)\n",
    "print('A circle with a ddb of 25.1')\n",
    "print('has a radius of', c.radius)\n",
    "print('and and area of', c.area())"
   ]
  },
  {
   "cell_type": "markdown",
   "metadata": {},
   "source": [
    "It should also work for subclasses. <br />\n",
    "This code doesn't work. It makes a perimeter from Circle and not Tire."
   ]
  },
  {
   "cell_type": "code",
   "execution_count": null,
   "metadata": {
    "collapsed": false
   },
   "outputs": [],
   "source": [
    "class Tire(Circle):\n",
    "    'Tires are circles with a corrected perimeter'\n",
    "    \n",
    "    def perimeter(self):\n",
    "        'Circumference corrected for the rubber'\n",
    "        return Circle.perimeter(self) * 1.25\n",
    "    \n",
    "t = Tire.from_bbd(45)\n",
    "print('A tire of radius', t.radius)\n",
    "print('has an inner area of', t.area())\n",
    "print('and an odometer corrected perimeter of')\n",
    "print(t.perimeter())"
   ]
  },
  {
   "cell_type": "markdown",
   "metadata": {},
   "source": [
    "Alternative constructors need to anticipate subclassing.<br />\n",
    "We need to **change the return type of class method** from_bbd from Circle **to cls**. <br \\>\n",
    "Alternative constructors have a parameter *cls* and be sure to use that parameter because it will support the subclassing."
   ]
  },
  {
   "cell_type": "code",
   "execution_count": null,
   "metadata": {
    "collapsed": false
   },
   "outputs": [],
   "source": [
    "import math\n",
    "\n",
    "class Circle(object): \n",
    "    'An advanced circle analytic toolkit'\n",
    "    version = '0.3'\n",
    "        \n",
    "    def __init__(self, radius):\n",
    "        self.radius = radius\n",
    "        \n",
    "    def area(self):\n",
    "        return math.pi * self.radius ** 2.0\n",
    "    \n",
    "    def perimeter(self):\n",
    "        return 2.0 * math.pi * self.radius\n",
    "    \n",
    "    @classmethod                     # alternative constructor\n",
    "    def from_bbd(cls, bbd):\n",
    "        'Construct a circle from a bounding box diagonal'\n",
    "        radius = bbd / 2.0 / math.sqrt(2.0)\n",
    "        return cls(radius) #correctly using cls"
   ]
  },
  {
   "cell_type": "code",
   "execution_count": null,
   "metadata": {
    "collapsed": false
   },
   "outputs": [],
   "source": [
    "class Tire(Circle):\n",
    "    'Tires are circles with a corrected perimeter'\n",
    "    \n",
    "    def perimeter(self):\n",
    "        'Circumference corrected for the rubber'\n",
    "        return Circle.perimeter(self) * 1.25\n",
    "\n",
    "t = Tire.from_bbd(45)\n",
    "print('A tire of radius', t.radius)\n",
    "print('has an inner area of', t.area())\n",
    "print('and an odometer corrected perimeter of')\n",
    "print(t.perimeter()) #look how this has changed value now"
   ]
  },
  {
   "cell_type": "markdown",
   "metadata": {},
   "source": [
    "**New customer request: add a function**  angle_to_grade<br />\n",
    "Will this also work for the Sphere class and the Hyperbolic class? <br />\n",
    "Can people even find this code? <br />\n",
    "This function is just sitting out there for anyone to use. <br />\n",
    "Need to add it to the class."
   ]
  },
  {
   "cell_type": "code",
   "execution_count": null,
   "metadata": {
    "collapsed": false
   },
   "outputs": [],
   "source": [
    "import math\n",
    "\n",
    "class Circle(object): \n",
    "    'An advanced circle analytic toolkit'\n",
    "    version = `0.3a`\n",
    "        \n",
    "    def __init__(self, radius):\n",
    "        self.radius = radius\n",
    "        \n",
    "    def angle_to_grade(self, angle):\n",
    "        'Convert angle in degrees to a percentage grade'\n",
    "        return math.tan(math.radians(angle)) * 100.0    \n",
    "    \n",
    "    def area(self):\n",
    "            return math.pi * self.radius ** 2.0\n",
    "    \n",
    "    def perimeter(self):\n",
    "        return 2.0 * math.pi * self.radius\n",
    "    \n",
    "    @classmethod                     # alternative constructor\n",
    "    def from_bbd(cls, bbd):\n",
    "        'Construct a circle from a bounding box diagonal'\n",
    "        radius = bbd / 2.0 / math.sqrt(2.0)\n",
    "        return cls(radius)"
   ]
  },
  {
   "cell_type": "markdown",
   "metadata": {},
   "source": [
    "Well, findability has been improved and it won't be called in the wrong context.\n",
    "\n",
    "Really? You have to create an instance just to call this function? We passed in self but it is not used in the function."
   ]
  },
  {
   "cell_type": "markdown",
   "metadata": {},
   "source": [
    "**Move function to a static method.**<br \\>\n",
    "The purpose of static method is to attach functions to classes.<br \\>\n",
    "You do it to improve the findability of the function and to make sure that people are using the function in the appropriate context."
   ]
  },
  {
   "cell_type": "code",
   "execution_count": null,
   "metadata": {
    "collapsed": false
   },
   "outputs": [],
   "source": [
    "import math\n",
    "\n",
    "class Circle(object): \n",
    "    'An advanced circle analytic toolkit'\n",
    "    version = '0.4'\n",
    "        \n",
    "    def __init__(self, radius):\n",
    "        self.radius = radius\n",
    "        \n",
    "    @staticmethod                    # attach functions to classes \n",
    "    def angle_to_grade(angle):\n",
    "        'Convert angle in degrees to a percentage grade'\n",
    "        return math.tan(math.radians(angle)) * 100.0    \n",
    "    \n",
    "    def area(self):\n",
    "            return math.pi * self.radius ** 2.0\n",
    "    \n",
    "    def perimeter(self):\n",
    "        return 2.0 * math.pi * self.radius\n",
    "    \n",
    "    @classmethod                     # alternative constructor\n",
    "    def from_bbd(cls, bbd):\n",
    "        'Construct a circle from a bounding box diagonal'\n",
    "        radius = bbd / 2.0 / math.sqrt(2.0)\n",
    "        return cls(radius)"
   ]
  },
  {
   "cell_type": "markdown",
   "metadata": {},
   "source": [
    "<br \\>\n",
    "**Government request: ISO-11110 compliance**<br />\n",
    "Tell you what your product should do and how it should do it (micro-management).<br />\n",
    "ISO standard says you are not allowed to use the radius in the perimeter calculation. Assume some legitimate reason for requiring this rule.<br />But the following is the wrong way."
   ]
  },
  {
   "cell_type": "code",
   "execution_count": 1,
   "metadata": {
    "collapsed": false
   },
   "outputs": [],
   "source": [
    "import math\n",
    "\n",
    "class Circle(object): \n",
    "    'An advanced circle analytic toolkit'\n",
    "    \n",
    "    version = '0.5b'\n",
    "        \n",
    "    def __init__(self, radius):\n",
    "        self.radius = radius\n",
    "        \n",
    "    def area(self):\n",
    "        p = self.perimeter()\n",
    "        r = p / math.pi / 2.0\n",
    "        return math.pi * r ** 2.0\n",
    "    \n",
    "    def perimeter(self):\n",
    "        return 2.0 * math.pi * self.radius\n"
   ]
  },
  {
   "cell_type": "markdown",
   "metadata": {},
   "source": [
    "But \"self\" is you (a Circle instance) and your children classes instances (e.g. a Tire instance). This messes up the Tire company code. Its perimeter (modified) scales up the radius. We have broken their area method. They should be free to override any method they want without breaking any of the other methods. "
   ]
  },
  {
   "cell_type": "code",
   "execution_count": 2,
   "metadata": {
    "collapsed": false
   },
   "outputs": [],
   "source": [
    "class Tire(Circle):\n",
    "    'Tires are circles with a corrected perimeter'\n",
    "    \n",
    "    def perimeter(self):\n",
    "        'Circumference corrected for the rubber'\n",
    "        return Circle.perimeter(self) * 1.25"
   ]
  },
  {
   "cell_type": "code",
   "execution_count": 3,
   "metadata": {
    "collapsed": false
   },
   "outputs": [
    {
     "name": "stdout",
     "output_type": "stream",
     "text": [
      "62.83185307179586 78.53981633974483\n",
      "314.1592653589793 490.8738521234052\n"
     ]
    }
   ],
   "source": [
    "c = Circle(10)\n",
    "t = Tire(10)\n",
    "print(c.perimeter(), t.perimeter()) #notice the desired different perimeter\n",
    "print(c.area(), t.area()) #notice the undesired different area!!!"
   ]
  },
  {
   "cell_type": "markdown",
   "metadata": {},
   "source": [
    "**Class local reference: Keep a spare copy** <br \\>\n",
    "Possible solution:\n"
   ]
  },
  {
   "cell_type": "code",
   "execution_count": 10,
   "metadata": {
    "collapsed": false
   },
   "outputs": [],
   "source": [
    "import math\n",
    "\n",
    "class Circle(object): \n",
    "    'An advanced circle analytic toolkit'\n",
    "    \n",
    "    version = '0.5b'\n",
    "        \n",
    "    def __init__(self, radius):\n",
    "        self.radius = radius\n",
    "        \n",
    "    def area(self):\n",
    "        p = self._perimeter()\n",
    "        r = p / math.pi / 2.0\n",
    "        return math.pi * r ** 2.0\n",
    "    \n",
    "    def perimeter(self):\n",
    "        return 2.0 * math.pi * self.radius\n",
    "\n",
    "    _perimeter = perimeter\n",
    "\n",
    "\n",
    "class Tire(Circle):\n",
    "    'Tires are circles with a corrected perimeter'\n",
    "    \n",
    "    def perimeter(self):\n",
    "        'Circumference corrected for the rubber'\n",
    "        return Circle.perimeter(self) * 1.25"
   ]
  },
  {
   "cell_type": "code",
   "execution_count": 11,
   "metadata": {
    "collapsed": false
   },
   "outputs": [
    {
     "name": "stdout",
     "output_type": "stream",
     "text": [
      "62.83185307179586 78.53981633974483\n",
      "314.1592653589793 314.1592653589793\n"
     ]
    }
   ],
   "source": [
    "c = Circle(10)\n",
    "t = Tire(10)\n",
    "print(c.perimeter(), t.perimeter()) #notice the desired different perimeter\n",
    "print(c.area(), t.area()) #notice the desired equal area!!!"
   ]
  },
  {
   "cell_type": "markdown",
   "metadata": {},
   "source": [
    "But a subclass could do the same thing.<br \\>\n",
    "They will protect their reference to their perimeter by doing the same thing.<br \\> And hence break the area method again."
   ]
  },
  {
   "cell_type": "code",
   "execution_count": 12,
   "metadata": {
    "collapsed": false
   },
   "outputs": [
    {
     "name": "stdout",
     "output_type": "stream",
     "text": [
      "62.83185307179586 78.53981633974483\n",
      "314.1592653589793 490.8738521234052\n"
     ]
    }
   ],
   "source": [
    "class Tire(Circle):\n",
    "    'Tires are circles with a corrected perimeter'\n",
    "    \n",
    "    def perimeter(self):\n",
    "        'Circumference corrected for the rubber'\n",
    "        return Circle._perimeter(self) * 1.25\n",
    "\n",
    "    _perimeter = perimeter\n",
    "\n",
    "c = Circle(10)\n",
    "t = Tire(10)\n",
    "print(c.perimeter(), t.perimeter()) #notice the desired different perimeter\n",
    "print(c.area(), t.area()) #notice that the area is again different. Bad!!!"
   ]
  },
  {
   "cell_type": "markdown",
   "metadata": {},
   "source": [
    "<br \\>\n",
    "**double underscore**<br \\>\n",
    "A way around this is to use double underscore.\n",
    "The purpose of double underscore is to make self refer to you and not your children. **It is for a class local reference.** It is not about privacy. The variables in python are free and open to all. It is about allowing your subclass to override any method without breaking the others."
   ]
  },
  {
   "cell_type": "code",
   "execution_count": 15,
   "metadata": {
    "collapsed": false
   },
   "outputs": [
    {
     "name": "stdout",
     "output_type": "stream",
     "text": [
      "62.83185307179586 78.53981633974483\n",
      "314.1592653589793 314.1592653589793\n"
     ]
    }
   ],
   "source": [
    "import math\n",
    "\n",
    "class Circle(object): \n",
    "    'An advanced circle analytic toolkit'\n",
    "    \n",
    "    version = '0.5b'\n",
    "        \n",
    "    def __init__(self, radius):\n",
    "        self.radius = radius\n",
    "        \n",
    "    def area(self):\n",
    "        p = self.__perimeter()\n",
    "        r = p / math.pi / 2.0\n",
    "        return math.pi * r ** 2.0\n",
    "    \n",
    "    def perimeter(self):\n",
    "        return 2.0 * math.pi * self.radius\n",
    "\n",
    "    __perimeter = perimeter\n",
    "\n",
    "\n",
    "class Tire(Circle):\n",
    "    'Tires are circles with a corrected perimeter'\n",
    "    \n",
    "    def perimeter(self):\n",
    "        'Circumference corrected for the rubber'\n",
    "        \n",
    "        #return Circle.__perimeter(self) * 1.25\n",
    "        #this would get an error because it would call Circle._Tire__perimeter\n",
    "        \n",
    "        return Circle.perimeter(self) * 1.25\n",
    "    \n",
    "    __perimeter = perimeter #we are also storing a spare copy of Tire's perimeter method\n",
    "\n",
    "\n",
    "c = Circle(10)\n",
    "t = Tire(10)\n",
    "print(c.perimeter(), t.perimeter()) #notice the desired different perimeter\n",
    "print(c.area(), t.area()) #notice that the area is equal (good!)"
   ]
  },
  {
   "cell_type": "markdown",
   "metadata": {},
   "source": [
    "<br \\>\n",
    "**Government request: ISO-22220**<br \\>\n",
    "* You're not allowed to store the *radius*\n",
    "* You must store the *diameter* instead!\n",
    "<br />\n",
    "<br />\n",
    "\n",
    "Solution is to use **@property** decorator for radius.<br />\n",
    "\n",
    "You can do this 'after the fact' in Python classes and it will store the .radius parameter in the diameter attribute. The property method for radius will get called instead of storing the parameter in the radius attribute.<br />\n",
    "\n",
    "This is a big big win for the Python language. When you design a class **you don't have to put getters and setters** in it, you can just use property if you later need to make changes. It will make your classes shorter and make them run faster and make the API's more beautiful. You can do this in a dynamic language but not in a compiled language."
   ]
  },
  {
   "cell_type": "code",
   "execution_count": 37,
   "metadata": {
    "collapsed": false
   },
   "outputs": [],
   "source": [
    "import math\n",
    "\n",
    "class Circle(object): \n",
    "    'An advanced circle analytic toolkit'\n",
    "    version = '0.6'\n",
    "        \n",
    "    def __init__(self, radius):\n",
    "        self.radius = radius\n",
    "        \n",
    "    @property       # convert dotted access to method calls\n",
    "    def radius(self):\n",
    "        'Radius of a circle'\n",
    "        return self.diameter / 2.0\n",
    "    \n",
    "    @radius.setter\n",
    "    def radius(self, radius):\n",
    "        self.diameter = radius * 2.0\n",
    "        \n",
    "    @staticmethod                    # attach functions to classes \n",
    "    def angle_to_grade(angle):\n",
    "        'Convert angle in degrees to a percentage grade'\n",
    "        return math.tan(math.radians(angle)) * 100.0    \n",
    "    \n",
    "    def area(self):\n",
    "            return math.pi * self.radius ** 2.0\n",
    "    \n",
    "    def perimeter(self):\n",
    "        return 2.0 * math.pi * self.radius\n",
    "    \n",
    "    @classmethod                     # alternative constructor\n",
    "    def from_bbd(cls, bbd):\n",
    "        'Construct a circle from a bounding box diagonal'\n",
    "        radius = bbd / 2.0 / math.sqrt(2.0)\n",
    "        return Circle(radius)"
   ]
  },
  {
   "cell_type": "markdown",
   "metadata": {},
   "source": [
    "<br \\>\n",
    "**User request: Many circles**<br \\>\n",
    "Major memory problem:<br \\>\n",
    "Circle instances are over 300 bytes each!<br \\>"
   ]
  },
  {
   "cell_type": "code",
   "execution_count": 38,
   "metadata": {
    "collapsed": false
   },
   "outputs": [
    {
     "name": "stdout",
     "output_type": "stream",
     "text": [
      "Using Circuituous(tm) version 0.6\n",
      "The average area of 10000000 random circles\n",
      "is 1.0470\n",
      "0:00:18.442537\n"
     ]
    }
   ],
   "source": [
    "from random import random, seed\n",
    "from datetime import datetime\n",
    "\n",
    "n = 10000000\n",
    "\n",
    "start_time = datetime.now()\n",
    "seed(8675309)\n",
    "print('Using Circuituous(tm) version', Circle.version)\n",
    "\n",
    "circles = [Circle(random()) for i in range(n)] #this takes long\n",
    "print('The average area of', n, 'random circles')\n",
    "avg = sum([c.area() for c in circles]) / n #this takes long too\n",
    "print('is %.4f' % avg)\n",
    "print(datetime.now() - start_time)"
   ]
  },
  {
   "cell_type": "markdown",
   "metadata": {},
   "source": [
    "How can you shrink down the size of the circles when all we are storing is a radius for each one?<br \\>\n",
    "By using \"slots\". This is called the **flyweight design pattern**: when you have many many instances then make them lightweight. That slots will do is allocate just one pointer for the diameter and nothing else, no dictionary. You lose the ability to inspect the dictionary and the ability to add additional attributes. So this is just an optimization, you save it for last only when you are scaling up to millions of instances. Your users can now add millions of circles on their machine without eating up all of the memory."
   ]
  },
  {
   "cell_type": "code",
   "execution_count": 34,
   "metadata": {
    "collapsed": false
   },
   "outputs": [],
   "source": [
    "import math\n",
    "\n",
    "class Circle(object): \n",
    "    'An advanced circle analytic toolkit'\n",
    "    \n",
    "    # flyweight design pattern suppresses\n",
    "    # the instance dictionary\n",
    "    \n",
    "    __slots__ = ['diameter']\n",
    "    version = '0.7'\n",
    "        \n",
    "    def __init__(self, radius):\n",
    "        self.radius = radius\n",
    "        \n",
    "    @property       # convert dotted access to method calls\n",
    "    def radius(self):\n",
    "        'Radius of a circle'\n",
    "        return self.diameter / 2.0\n",
    "    \n",
    "    @radius.setter\n",
    "    def radius(self, radius):\n",
    "        self.diameter = radius * 2.0\n",
    "        \n",
    "    @staticmethod                    # attach functions to classes \n",
    "    def angle_to_grade(angle):\n",
    "        'Convert angle in degrees to a percentage grade'\n",
    "        return math.tan(math.radians(angle)) * 100.0    \n",
    "    \n",
    "    def area(self):\n",
    "            return math.pi * self.radius ** 2.0\n",
    "    \n",
    "    def perimeter(self):\n",
    "        return 2.0 * math.pi * self.radius\n",
    "    \n",
    "    @classmethod                     # alternative constructor\n",
    "    def from_bbd(cls, bbd):\n",
    "        'Construct a circle from a bounding box diagonal'\n",
    "        radius = bbd / 2.0 / math.sqrt(2.0)\n",
    "\n",
    "        return Circle(radius)"
   ]
  },
  {
   "cell_type": "code",
   "execution_count": 36,
   "metadata": {
    "collapsed": false
   },
   "outputs": [
    {
     "name": "stdout",
     "output_type": "stream",
     "text": [
      "Using Circuituous(tm) version 0.7\n",
      "The average area of 10000000 random circles\n",
      "is 1.0\n",
      "0:00:15.326014\n"
     ]
    }
   ],
   "source": [
    "from datetime import datetime\n",
    "\n",
    "n = 10000000\n",
    "\n",
    "seed(8675309)\n",
    "print('Using Circuituous(tm) version', Circle.version)\n",
    "start_time = datetime.now()\n",
    "circles = [Circle(random()) for i in range(n)]\n",
    "print('The average area of', n, 'random circles')\n",
    "avg = sum([c.area() for c in circles]) / n\n",
    "print('is %.1f' % avg)\n",
    "print(datetime.now() - start_time)"
   ]
  },
  {
   "cell_type": "markdown",
   "metadata": {
    "collapsed": true
   },
   "source": [
    "# Summary: Toolset for New-Style Classes"
   ]
  },
  {
   "cell_type": "markdown",
   "metadata": {},
   "source": [
    "1. Inherit from **object**\n",
    "2. **Instance variables** for information unique to an instance\n",
    "3. **Class variables** for data shared among all instances\n",
    "4. **Regular methods** need \"self\" to operate on instance data\n",
    "5. **Class methods** implement alternative constructors. They need \"cls\" so they can create subclass instances as well.\n",
    "6. **Static methods** attach functions to classes. They don't need either \"self\" or \"cls\". Static methods improve discoverability and require context to be specified.\n",
    "7. A **property()** lets getter and setter methods be invoked automatically by attribute access. This allows Python classes to freely expose their instance variables.\n",
    "8. **Double underscore** make self refer to this class and not its children. It allows the subclass to override any method without breaking the others.\n",
    "9. **__slots__** is flyweight design pattern used to shrink class size."
   ]
  }
 ],
 "metadata": {
  "kernelspec": {
   "display_name": "Python 3",
   "language": "python",
   "name": "python3"
  },
  "language_info": {
   "codemirror_mode": {
    "name": "ipython",
    "version": 3
   },
   "file_extension": ".py",
   "mimetype": "text/x-python",
   "name": "python",
   "nbconvert_exporter": "python",
   "pygments_lexer": "ipython3",
   "version": "3.5.1"
  }
 },
 "nbformat": 4,
 "nbformat_minor": 0
}
